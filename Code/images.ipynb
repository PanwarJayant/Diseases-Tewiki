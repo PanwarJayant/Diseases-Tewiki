{
 "cells": [
  {
   "cell_type": "code",
   "execution_count": 1,
   "metadata": {},
   "outputs": [],
   "source": [
    "# INITIAL DATA CLEANING AND ENLISTING\n",
    "import pandas as pd\n",
    "import pickle\n",
    "from pandas.io.html import read_html\n",
    "pd.set_option('display.max_columns', None)\n",
    "\n",
    "# INCORPORATING DATASET FILE\n",
    "# file = open('./disease_cleaned.csv', 'rb')\n",
    "# df = pd.read_csv(file, encoding='Windows-1252')\n",
    "\n",
    "editfile = open('./infobox.csv', 'rb')\n",
    "editfile2 = open('./infoboxImg.csv', 'wb')\n",
    "de = pd.read_csv(editfile, encoding='Windows-1252')"
   ]
  },
  {
   "cell_type": "code",
   "execution_count": 2,
   "metadata": {},
   "outputs": [
    {
     "data": {
      "text/plain": [
       "853"
      ]
     },
     "execution_count": 2,
     "metadata": {},
     "output_type": "execute_result"
    }
   ],
   "source": [
    "# LOAD required names\n",
    "file_name = \"infoindex.pkl\"\n",
    "\n",
    "open_file = open(file_name, \"rb\")\n",
    "available = pickle.load(open_file)\n",
    "open_file.close()\n",
    "\n",
    "file_name = \"infocontent.pkl\"\n",
    "open_file = open(file_name, \"rb\")\n",
    "nocontent = pickle.load(open_file)\n",
    "open_file.close()\n",
    "\n",
    "len(available)"
   ]
  },
  {
   "cell_type": "code",
   "execution_count": 109,
   "metadata": {},
   "outputs": [],
   "source": [
    "df.to_csv(editfile, index=False)"
   ]
  },
  {
   "cell_type": "code",
   "execution_count": 3,
   "metadata": {},
   "outputs": [],
   "source": [
    "de[\"ImageURL\"] = \"\""
   ]
  },
  {
   "cell_type": "code",
   "execution_count": 13,
   "metadata": {},
   "outputs": [
    {
     "name": "stdout",
     "output_type": "stream",
     "text": [
      "1017\n",
      "Nr. of images on page: 11\n",
      "1018\n",
      "Nr. of images on page: 3\n",
      "1019\n",
      "Nr. of images on page: 10\n",
      "1020\n",
      "Nr. of images on page: 8\n",
      "1021\n",
      "Nr. of images on page: 5\n",
      "1022\n",
      "Nr. of images on page: 0\n",
      "1023\n",
      "Nr. of images on page: 15\n",
      "1024\n",
      "Nr. of images on page: 6\n",
      "1025\n",
      "Nr. of images on page: 3\n",
      "1026\n",
      "Nr. of images on page: 6\n",
      "1027\n",
      "Nr. of images on page: 4\n",
      "1028\n",
      "Nr. of images on page: 2\n",
      "1029\n",
      "Nr. of images on page: 2\n",
      "1030\n",
      "Nr. of images on page: 2\n",
      "1031\n",
      "Nr. of images on page: 2\n",
      "1032\n",
      "Nr. of images on page: 5\n",
      "1033\n",
      "Nr. of images on page: 6\n",
      "1034\n",
      "1035\n",
      "Nr. of images on page: 12\n",
      "1036\n",
      "Nr. of images on page: 1\n",
      "1037\n",
      "Nr. of images on page: 4\n",
      "1038\n",
      "Nr. of images on page: 16\n",
      "1039\n",
      "Nr. of images on page: 4\n",
      "1040\n",
      "Nr. of images on page: 1\n",
      "1041\n",
      "Nr. of images on page: 3\n",
      "1042\n",
      "Nr. of images on page: 6\n",
      "1043\n",
      "Nr. of images on page: 9\n",
      "1044\n",
      "Nr. of images on page: 26\n",
      "1045\n",
      "Nr. of images on page: 11\n",
      "1046\n",
      "Nr. of images on page: 2\n",
      "1047\n",
      "Nr. of images on page: 5\n",
      "1048\n",
      "Nr. of images on page: 3\n",
      "1049\n",
      "Nr. of images on page: 13\n",
      "1050\n",
      "1051\n",
      "Nr. of images on page: 6\n",
      "1052\n",
      "Nr. of images on page: 2\n",
      "1053\n",
      "Nr. of images on page: 8\n",
      "1054\n",
      "Nr. of images on page: 20\n",
      "1055\n",
      "Nr. of images on page: 4\n",
      "1056\n",
      "Nr. of images on page: 0\n",
      "1057\n",
      "Nr. of images on page: 7\n",
      "1058\n",
      "Nr. of images on page: 6\n",
      "1059\n",
      "Nr. of images on page: 20\n",
      "1060\n",
      "Nr. of images on page: 4\n",
      "1061\n",
      "Nr. of images on page: 4\n",
      "1062\n",
      "Nr. of images on page: 12\n",
      "1063\n",
      "Nr. of images on page: 3\n",
      "1064\n",
      "Nr. of images on page: 2\n",
      "1065\n",
      "Nr. of images on page: 2\n",
      "1066\n",
      "Nr. of images on page: 7\n",
      "1067\n",
      "Nr. of images on page: 7\n",
      "1068\n",
      "Nr. of images on page: 3\n",
      "1069\n",
      "Nr. of images on page: 4\n",
      "1070\n",
      "Nr. of images on page: 19\n",
      "1071\n",
      "Nr. of images on page: 3\n",
      "1072\n",
      "Nr. of images on page: 6\n",
      "1073\n",
      "Nr. of images on page: 27\n",
      "1074\n",
      "Nr. of images on page: 28\n",
      "1075\n",
      "Nr. of images on page: 8\n",
      "1076\n",
      "Nr. of images on page: 4\n",
      "1077\n",
      "Nr. of images on page: 6\n",
      "1078\n",
      "Nr. of images on page: 9\n",
      "1079\n",
      "Nr. of images on page: 2\n",
      "1080\n",
      "Nr. of images on page: 2\n",
      "1081\n",
      "Nr. of images on page: 14\n",
      "1082\n",
      "Nr. of images on page: 14\n",
      "1083\n",
      "Nr. of images on page: 12\n",
      "1084\n",
      "Nr. of images on page: 9\n",
      "1085\n",
      "Nr. of images on page: 12\n",
      "1086\n",
      "1087\n",
      "Nr. of images on page: 11\n",
      "1088\n",
      "Nr. of images on page: 2\n",
      "1089\n",
      "Nr. of images on page: 6\n",
      "1090\n",
      "Nr. of images on page: 1\n",
      "1091\n",
      "Nr. of images on page: 9\n",
      "1092\n",
      "Nr. of images on page: 3\n",
      "1093\n",
      "Nr. of images on page: 7\n",
      "1094\n",
      "Nr. of images on page: 1\n",
      "1095\n",
      "Nr. of images on page: 2\n",
      "1096\n",
      "Nr. of images on page: 2\n",
      "1097\n",
      "Nr. of images on page: 2\n",
      "1098\n",
      "1099\n",
      "Nr. of images on page: 9\n",
      "1100\n",
      "Nr. of images on page: 11\n",
      "1101\n",
      "Nr. of images on page: 0\n",
      "1102\n",
      "Nr. of images on page: 6\n",
      "1103\n",
      "Nr. of images on page: 7\n",
      "1104\n",
      "Nr. of images on page: 7\n",
      "1105\n",
      "Nr. of images on page: 7\n",
      "1106\n",
      "Nr. of images on page: 22\n",
      "1107\n",
      "Nr. of images on page: 3\n",
      "1108\n",
      "Nr. of images on page: 2\n",
      "1109\n",
      "Nr. of images on page: 3\n",
      "1110\n",
      "Nr. of images on page: 3\n",
      "1111\n",
      "Nr. of images on page: 8\n",
      "1112\n",
      "Nr. of images on page: 2\n",
      "1113\n",
      "Nr. of images on page: 2\n",
      "1114\n",
      "Nr. of images on page: 9\n",
      "1115\n",
      "Nr. of images on page: 1\n",
      "1116\n",
      "Nr. of images on page: 1\n",
      "1117\n",
      "1118\n",
      "Nr. of images on page: 10\n",
      "1119\n",
      "Nr. of images on page: 6\n",
      "1120\n",
      "Nr. of images on page: 13\n",
      "1121\n",
      "Nr. of images on page: 5\n",
      "1122\n",
      "Nr. of images on page: 7\n",
      "1123\n",
      "Nr. of images on page: 6\n",
      "1124\n",
      "1125\n",
      "Nr. of images on page: 2\n",
      "1126\n",
      "Nr. of images on page: 0\n",
      "1127\n",
      "Nr. of images on page: 3\n",
      "1128\n",
      "Nr. of images on page: 0\n",
      "1129\n",
      "Nr. of images on page: 2\n",
      "1130\n",
      "Nr. of images on page: 5\n",
      "1131\n",
      "Nr. of images on page: 7\n",
      "1132\n",
      "Nr. of images on page: 4\n",
      "1133\n",
      "Nr. of images on page: 0\n",
      "1134\n",
      "Nr. of images on page: 4\n",
      "1135\n",
      "Nr. of images on page: 4\n",
      "1136\n",
      "Nr. of images on page: 6\n",
      "1137\n",
      "Nr. of images on page: 12\n",
      "1138\n",
      "Nr. of images on page: 10\n",
      "1139\n",
      "Nr. of images on page: 5\n",
      "1140\n",
      "1141\n",
      "Nr. of images on page: 10\n",
      "1142\n",
      "Nr. of images on page: 2\n",
      "1143\n",
      "Nr. of images on page: 0\n",
      "1144\n",
      "Nr. of images on page: 5\n",
      "1145\n",
      "1146\n",
      "Nr. of images on page: 8\n",
      "1147\n",
      "Nr. of images on page: 2\n",
      "1148\n",
      "Nr. of images on page: 1\n",
      "1149\n",
      "Nr. of images on page: 11\n",
      "1150\n",
      "Nr. of images on page: 9\n",
      "1151\n",
      "Nr. of images on page: 6\n",
      "1152\n",
      "1153\n",
      "1154\n",
      "Nr. of images on page: 7\n",
      "1155\n",
      "1156\n",
      "Nr. of images on page: 11\n",
      "1157\n",
      "Nr. of images on page: 3\n",
      "1158\n",
      "1159\n",
      "Nr. of images on page: 3\n",
      "1160\n",
      "1161\n",
      "1162\n",
      "Nr. of images on page: 9\n",
      "1163\n",
      "Nr. of images on page: 6\n",
      "1164\n",
      "Nr. of images on page: 11\n",
      "1165\n",
      "Nr. of images on page: 19\n",
      "1166\n",
      "Nr. of images on page: 7\n",
      "1167\n",
      "Nr. of images on page: 8\n",
      "1168\n",
      "Nr. of images on page: 10\n",
      "1169\n",
      "Nr. of images on page: 2\n",
      "1170\n",
      "Nr. of images on page: 7\n",
      "1171\n",
      "1172\n",
      "Nr. of images on page: 3\n",
      "1173\n",
      "Nr. of images on page: 3\n",
      "1174\n",
      "Nr. of images on page: 11\n",
      "1175\n",
      "Nr. of images on page: 4\n",
      "1176\n",
      "1177\n",
      "Nr. of images on page: 9\n",
      "1178\n",
      "1179\n",
      "Nr. of images on page: 15\n",
      "1180\n",
      "Nr. of images on page: 2\n",
      "1181\n",
      "Nr. of images on page: 17\n",
      "1182\n",
      "Nr. of images on page: 8\n"
     ]
    }
   ],
   "source": [
    "import wikipedia\n",
    "\n",
    "for row in range(1017, 1183):\n",
    "  print(row)\n",
    "\n",
    "  try:\n",
    "      #try to load the wikipedia page\n",
    "    wikipage = wikipedia.page(de.loc[row, \"Name\"])\n",
    "  except wikipedia.exceptions.PageError:\n",
    "      #if a \"PageError\" was raised, ignore it and continue to next link\n",
    "    continue\n",
    "  except wikipedia.exceptions.DisambiguationError:\n",
    "    continue\n",
    "  \n",
    "  # print(\"Page Title: %s\" % wikipage.title)\n",
    "  # print(\"Page URL: %s\" % wikipage.url)\n",
    "  print(\"Nr. of images on page: %d\" % len(wikipage.images))\n",
    "\n",
    "  if len(wikipage.images)==0:\n",
    "    continue\n",
    "\n",
    "  de.loc[row, \"ImageURL\"] = wikipage.images[0]\n",
    "\n",
    "# PAGES = ['New York City', 'Mercury_(planet)', 'Tucana']\n",
    "# PAGES = [df.loc[0, 'Name'], df.loc[1, \"Name\"], \"Migraine\"]\n",
    "# for page in PAGES:\n",
    "#     wikipage = wikipedia.page(page)\n",
    "#     print(\"Page Title: %s\" % wikipage.title)\n",
    "#     # print(\"Page URL: %s\" % wikipage.url)\n",
    "#     print(\"Nr. of images on page: %d\" % len(wikipage.images))\n",
    "#     main = \"\"\n",
    "    \n",
    "\n",
    "#     for img in wikipage.images:\n",
    "#       print(img)\n",
    "#       print(\"***\")\n",
    "#       if \".jpg\" in img or \".JPG\" in img or \".png\" in img or \".PNG\" in img:\n",
    "#         main = img\n",
    "#         break\n",
    "    \n",
    "#     print(\" - Main Image: %s\" % main)\n",
    "#     print(\"\")"
   ]
  },
  {
   "cell_type": "code",
   "execution_count": 6,
   "metadata": {},
   "outputs": [
    {
     "data": {
      "text/plain": [
       "('./images/Esopageal', <http.client.HTTPMessage at 0x7f398cdecee0>)"
      ]
     },
     "execution_count": 6,
     "metadata": {},
     "output_type": "execute_result"
    }
   ],
   "source": [
    "import urllib.request\n",
    "urllib.request.urlretrieve(\"https://upload.wikimedia.org/wikipedia/commons/8/82/Acha.JPG\", \"./images/Esopageal\")"
   ]
  },
  {
   "cell_type": "code",
   "execution_count": 15,
   "metadata": {},
   "outputs": [
    {
     "data": {
      "text/plain": [
       "'https://upload.wikimedia.org/wikipedia/commons/7/75/Cortical_spreading_depression.gif'"
      ]
     },
     "execution_count": 15,
     "metadata": {},
     "output_type": "execute_result"
    }
   ],
   "source": [
    "de.loc[526, \"ImageURL\"]"
   ]
  },
  {
   "cell_type": "code",
   "execution_count": 16,
   "metadata": {},
   "outputs": [],
   "source": [
    "de.to_csv(editfile2, index=False)"
   ]
  },
  {
   "cell_type": "code",
   "execution_count": 24,
   "metadata": {},
   "outputs": [
    {
     "data": {
      "text/plain": [
       "'https://upload.wikimedia.org/wikipedia/commons/1/15/Girl_with_Ice_Cream_-_Southend-on-Sea_-_Essex_-_England_%2827713936233%29.jpg'"
      ]
     },
     "execution_count": 24,
     "metadata": {},
     "output_type": "execute_result"
    }
   ],
   "source": [
    "de.loc[392, \"ImageURL\"]"
   ]
  },
  {
   "cell_type": "code",
   "execution_count": 17,
   "metadata": {},
   "outputs": [
    {
     "data": {
      "text/plain": [
       "25"
      ]
     },
     "execution_count": 17,
     "metadata": {},
     "output_type": "execute_result"
    }
   ],
   "source": [
    "# LOAD required names\n",
    "file_name = \"infoindex.pkl\"\n",
    "\n",
    "open_file = open(file_name, \"rb\")\n",
    "available = pickle.load(open_file)\n",
    "open_file.close()\n",
    "\n",
    "file_name = \"infocontent.pkl\"\n",
    "open_file = open(file_name, \"rb\")\n",
    "nocontent = pickle.load(open_file)\n",
    "open_file.close()\n",
    "\n",
    "len(nocontent)"
   ]
  },
  {
   "cell_type": "code",
   "execution_count": 18,
   "metadata": {},
   "outputs": [
    {
     "data": {
      "text/plain": [
       "[6,\n",
       " 24,\n",
       " 56,\n",
       " 71,\n",
       " 143,\n",
       " 171,\n",
       " 192,\n",
       " 301,\n",
       " 316,\n",
       " 319,\n",
       " 436,\n",
       " 466,\n",
       " 566,\n",
       " 589,\n",
       " 651,\n",
       " 730,\n",
       " 777,\n",
       " 844,\n",
       " 878,\n",
       " 982,\n",
       " 1052,\n",
       " 1063,\n",
       " 1098,\n",
       " 1112,\n",
       " 1165]"
      ]
     },
     "execution_count": 18,
     "metadata": {},
     "output_type": "execute_result"
    }
   ],
   "source": [
    "nocontent"
   ]
  },
  {
   "cell_type": "code",
   "execution_count": 19,
   "metadata": {},
   "outputs": [],
   "source": [
    "avail = 0\n",
    "unavail = 0\n",
    "for row in range(0, 1183):\n",
    "  if row not in nocontent:\n",
    "    if de.loc[row, \"ImageURL\"] == \"\":\n",
    "      unavail+=1\n",
    "    else:\n",
    "      avail+=1"
   ]
  },
  {
   "cell_type": "code",
   "execution_count": 20,
   "metadata": {},
   "outputs": [
    {
     "data": {
      "text/plain": [
       "137"
      ]
     },
     "execution_count": 20,
     "metadata": {},
     "output_type": "execute_result"
    }
   ],
   "source": [
    "unavail"
   ]
  },
  {
   "cell_type": "code",
   "execution_count": 21,
   "metadata": {},
   "outputs": [
    {
     "data": {
      "text/plain": [
       "'https://upload.wikimedia.org/wikipedia/commons/4/4e/Autosomal_dominant_-_en.svg'"
      ]
     },
     "execution_count": 21,
     "metadata": {},
     "output_type": "execute_result"
    }
   ],
   "source": [
    "de.loc[1182, \"ImageURL\"]"
   ]
  }
 ],
 "metadata": {
  "interpreter": {
   "hash": "31f2aee4e71d21fbe5cf8b01ff0e069b9275f58929596ceb00d14d90e3e16cd6"
  },
  "kernelspec": {
   "display_name": "Python 3.8.10 64-bit",
   "language": "python",
   "name": "python3"
  },
  "language_info": {
   "codemirror_mode": {
    "name": "ipython",
    "version": 3
   },
   "file_extension": ".py",
   "mimetype": "text/x-python",
   "name": "python",
   "nbconvert_exporter": "python",
   "pygments_lexer": "ipython3",
   "version": "3.8.10"
  },
  "orig_nbformat": 4
 },
 "nbformat": 4,
 "nbformat_minor": 2
}
