{
 "cells": [
  {
   "cell_type": "code",
   "execution_count": 67,
   "metadata": {},
   "outputs": [],
   "source": [
    "# INITIAL DATA CLEANING AND ENLISTING\n",
    "import pandas as pd\n",
    "import pickle\n",
    "from pandas.io.html import read_html\n",
    "pd.set_option('display.max_columns', None)\n",
    "\n",
    "# INCORPORATING DATASET FILE\n",
    "file = open('./disease_cleaned.csv', 'rb')\n",
    "df = pd.read_csv(file, encoding='Windows-1252')\n",
    "\n",
    "editfile = open('./infobox.csv', 'rb')"
   ]
  },
  {
   "cell_type": "code",
   "execution_count": 68,
   "metadata": {},
   "outputs": [
    {
     "name": "stderr",
     "output_type": "stream",
     "text": [
      "<ipython-input-68-ca74ec54ef61>:3: FutureWarning: In a future version of pandas all arguments of DataFrame.drop except for the argument 'labels' will be keyword-only\n",
      "  df = df.drop(attr, 1)\n"
     ]
    },
    {
     "data": {
      "text/html": [
       "<div>\n",
       "<style scoped>\n",
       "    .dataframe tbody tr th:only-of-type {\n",
       "        vertical-align: middle;\n",
       "    }\n",
       "\n",
       "    .dataframe tbody tr th {\n",
       "        vertical-align: top;\n",
       "    }\n",
       "\n",
       "    .dataframe thead th {\n",
       "        text-align: right;\n",
       "    }\n",
       "</style>\n",
       "<table border=\"1\" class=\"dataframe\">\n",
       "  <thead>\n",
       "    <tr style=\"text-align: right;\">\n",
       "      <th></th>\n",
       "      <th>Name</th>\n",
       "    </tr>\n",
       "  </thead>\n",
       "  <tbody>\n",
       "    <tr>\n",
       "      <th>0</th>\n",
       "      <td>Acanthosis nigricans</td>\n",
       "    </tr>\n",
       "    <tr>\n",
       "      <th>1</th>\n",
       "      <td>Achalasia</td>\n",
       "    </tr>\n",
       "    <tr>\n",
       "      <th>2</th>\n",
       "      <td>Achilles tendon rupture</td>\n",
       "    </tr>\n",
       "    <tr>\n",
       "      <th>3</th>\n",
       "      <td>Acute coronary syndrome</td>\n",
       "    </tr>\n",
       "    <tr>\n",
       "      <th>4</th>\n",
       "      <td>Adenomyosis</td>\n",
       "    </tr>\n",
       "    <tr>\n",
       "      <th>...</th>\n",
       "      <td>...</td>\n",
       "    </tr>\n",
       "    <tr>\n",
       "      <th>1178</th>\n",
       "      <td>Yips</td>\n",
       "    </tr>\n",
       "    <tr>\n",
       "      <th>1179</th>\n",
       "      <td>Zika virus</td>\n",
       "    </tr>\n",
       "    <tr>\n",
       "      <th>1180</th>\n",
       "      <td>Zollinger-Ellison syndrome</td>\n",
       "    </tr>\n",
       "    <tr>\n",
       "      <th>1181</th>\n",
       "      <td>Zoster</td>\n",
       "    </tr>\n",
       "    <tr>\n",
       "      <th>1182</th>\n",
       "      <td>22q11.2 deletion syndrome</td>\n",
       "    </tr>\n",
       "  </tbody>\n",
       "</table>\n",
       "<p>1183 rows × 1 columns</p>\n",
       "</div>"
      ],
      "text/plain": [
       "                            Name\n",
       "0           Acanthosis nigricans\n",
       "1                      Achalasia\n",
       "2        Achilles tendon rupture\n",
       "3        Acute coronary syndrome\n",
       "4                    Adenomyosis\n",
       "...                          ...\n",
       "1178                        Yips\n",
       "1179                  Zika virus\n",
       "1180  Zollinger-Ellison syndrome\n",
       "1181                      Zoster\n",
       "1182   22q11.2 deletion syndrome\n",
       "\n",
       "[1183 rows x 1 columns]"
      ]
     },
     "execution_count": 68,
     "metadata": {},
     "output_type": "execute_result"
    }
   ],
   "source": [
    "oldattrs = [\"link\",\"Symptoms\",\"Overview\",\"Causes\",\"Risk factors\",\"Diagnosis\",\"Treatment\",\"Remedies\",\"Medication\", \"info-symptoms\", \"info-causes\", \"info-medication\"]\n",
    "for attr in oldattrs:\n",
    "  df = df.drop(attr, 1)\n",
    "df"
   ]
  },
  {
   "cell_type": "code",
   "execution_count": 110,
   "metadata": {},
   "outputs": [
    {
     "data": {
      "text/plain": [
       "853"
      ]
     },
     "execution_count": 110,
     "metadata": {},
     "output_type": "execute_result"
    }
   ],
   "source": [
    "# LOAD required names\n",
    "file_name = \"infoindex.pkl\"\n",
    "\n",
    "open_file = open(file_name, \"rb\")\n",
    "available = pickle.load(open_file)\n",
    "open_file.close()\n",
    "\n",
    "file_name = \"infocontent.pkl\"\n",
    "open_file = open(file_name, \"rb\")\n",
    "nocontent = pickle.load(open_file)\n",
    "open_file.close()\n",
    "\n",
    "len(available)"
   ]
  },
  {
   "cell_type": "code",
   "execution_count": 70,
   "metadata": {},
   "outputs": [
    {
     "data": {
      "text/plain": [
       "{'Specialty': 0,\n",
       " 'Symptoms': 0,\n",
       " 'Risk factors': 0,\n",
       " 'Treatment': 0,\n",
       " 'Prognosis': 0,\n",
       " 'Frequency': 0,\n",
       " 'Causes': 0,\n",
       " 'Prevention': 0,\n",
       " 'Duration': 0,\n",
       " 'Usual onset': 0,\n",
       " 'Diagnostic method': 0,\n",
       " 'Medication': 0}"
      ]
     },
     "execution_count": 70,
     "metadata": {},
     "output_type": "execute_result"
    }
   ],
   "source": [
    "infoattr = [\"Specialty\", \"Symptoms\", \"Risk factors\", \"Treatment\", \"Prognosis\", \"Frequency\", \"Causes\", \"Prevention\", \"Duration\", \"Usual onset\", \"Diagnostic method\", \"Medication\"]\n",
    "\n",
    "dictinfo = {}\n",
    "for item in infoattr:\n",
    "  dictinfo[item] = 0\n",
    "\n",
    "dictinfo"
   ]
  },
  {
   "cell_type": "code",
   "execution_count": 107,
   "metadata": {},
   "outputs": [
    {
     "name": "stdout",
     "output_type": "stream",
     "text": [
      "1179\n",
      "1180\n",
      "1181\n",
      "1182\n"
     ]
    }
   ],
   "source": [
    "for row in range(1179, 1183):\n",
    "  print(row)\n",
    "  if row not in nocontent and row in available:\n",
    "    page = 'https://en.wikipedia.org/wiki/' + df.loc[row, 'Name'].replace(' ', '_')\n",
    "    infoboxes = read_html(page, index_col=0, attrs={\"class\":\"infobox\"})\n",
    "\n",
    "    di = infoboxes[0]\n",
    "    # print(di)\n",
    "\n",
    "    for l in range(len(di)):\n",
    "      if di.iloc[l].name in infoattr:\n",
    "        dictinfo[di.iloc[l].name] += 1\n",
    "        value = di.iloc[l][0]\n",
    "        finalval = []\n",
    "        flag = 0\n",
    "        for char in value:\n",
    "          if char == \"[\":\n",
    "            flag = 1\n",
    "          if char == \"]\":\n",
    "            flag = 0\n",
    "            continue\n",
    "          if flag:\n",
    "            continue\n",
    "          finalval.append(char)\n",
    "        finalval = ''.join(finalval)\n",
    "        # print(finalval)\n",
    "        # print(\"*******\")\n",
    "        df.loc[row, di.iloc[l].name] = finalval\n",
    "        \n",
    "        \n"
   ]
  },
  {
   "cell_type": "code",
   "execution_count": 108,
   "metadata": {},
   "outputs": [
    {
     "data": {
      "text/plain": [
       "{'Specialty': 757,\n",
       " 'Symptoms': 422,\n",
       " 'Risk factors': 215,\n",
       " 'Treatment': 363,\n",
       " 'Prognosis': 155,\n",
       " 'Frequency': 362,\n",
       " 'Causes': 345,\n",
       " 'Prevention': 136,\n",
       " 'Duration': 125,\n",
       " 'Usual onset': 225,\n",
       " 'Diagnostic method': 349,\n",
       " 'Medication': 143}"
      ]
     },
     "execution_count": 108,
     "metadata": {},
     "output_type": "execute_result"
    }
   ],
   "source": [
    "dictinfo"
   ]
  },
  {
   "cell_type": "code",
   "execution_count": 109,
   "metadata": {},
   "outputs": [],
   "source": [
    "df.to_csv(editfile, index=False)"
   ]
  }
 ],
 "metadata": {
  "interpreter": {
   "hash": "31f2aee4e71d21fbe5cf8b01ff0e069b9275f58929596ceb00d14d90e3e16cd6"
  },
  "kernelspec": {
   "display_name": "Python 3.8.10 64-bit",
   "language": "python",
   "name": "python3"
  },
  "language_info": {
   "codemirror_mode": {
    "name": "ipython",
    "version": 3
   },
   "file_extension": ".py",
   "mimetype": "text/x-python",
   "name": "python",
   "nbconvert_exporter": "python",
   "pygments_lexer": "ipython3",
   "version": "3.8.10"
  },
  "orig_nbformat": 4
 },
 "nbformat": 4,
 "nbformat_minor": 2
}
