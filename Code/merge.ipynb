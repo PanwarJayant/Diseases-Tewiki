{
 "cells": [
  {
   "cell_type": "code",
   "execution_count": 104,
   "metadata": {},
   "outputs": [],
   "source": [
    "# INITIAL DATA CLEANING AND ENLISTING\n",
    "import pandas as pd\n",
    "pd.set_option('display.max_columns', None)\n",
    "\n",
    "# INCORPORATING DATASET FILE\n",
    "file = open('./disease_cleaned_hindi.csv', 'rb')\n",
    "de = pd.read_csv(file)#, encoding='Windows-1252')"
   ]
  },
  {
   "cell_type": "code",
   "execution_count": 159,
   "metadata": {},
   "outputs": [],
   "source": [
    "file2 = open('./trymergeHindi.csv', 'rb')\n",
    "# file2 = open('./infoboxImgHindi2.csv', 'rb')\n",
    "di = pd.read_csv(file2)#, encoding='Windows-1252')"
   ]
  },
  {
   "cell_type": "code",
   "execution_count": 115,
   "metadata": {},
   "outputs": [
    {
     "data": {
      "text/plain": [
       "(1183, 23)"
      ]
     },
     "execution_count": 115,
     "metadata": {},
     "output_type": "execute_result"
    }
   ],
   "source": [
    "de.shape"
   ]
  },
  {
   "cell_type": "code",
   "execution_count": 182,
   "metadata": {},
   "outputs": [],
   "source": [
    "checkfile = open('./trymergeHindi.csv', 'wb')"
   ]
  },
  {
   "cell_type": "code",
   "execution_count": 116,
   "metadata": {},
   "outputs": [
    {
     "data": {
      "text/html": [
       "<div>\n",
       "<style scoped>\n",
       "    .dataframe tbody tr th:only-of-type {\n",
       "        vertical-align: middle;\n",
       "    }\n",
       "\n",
       "    .dataframe tbody tr th {\n",
       "        vertical-align: top;\n",
       "    }\n",
       "\n",
       "    .dataframe thead th {\n",
       "        text-align: right;\n",
       "    }\n",
       "</style>\n",
       "<table border=\"1\" class=\"dataframe\">\n",
       "  <thead>\n",
       "    <tr style=\"text-align: right;\">\n",
       "      <th></th>\n",
       "      <th>Name</th>\n",
       "      <th>link</th>\n",
       "      <th>Symptoms</th>\n",
       "      <th>Overview</th>\n",
       "      <th>Causes</th>\n",
       "      <th>Risk factors</th>\n",
       "      <th>Diagnosis</th>\n",
       "      <th>Treatment</th>\n",
       "      <th>Remedies</th>\n",
       "      <th>Medication</th>\n",
       "      <th>info-Specialty</th>\n",
       "      <th>info-Symptoms</th>\n",
       "      <th>info-Usual onset</th>\n",
       "      <th>info-Duration</th>\n",
       "      <th>info-Causes</th>\n",
       "      <th>info-Risk factors</th>\n",
       "      <th>info-Diagnostic method</th>\n",
       "      <th>info-Prevention</th>\n",
       "      <th>info-Treatment</th>\n",
       "      <th>info-Prognosis</th>\n",
       "      <th>info-Frequency</th>\n",
       "      <th>info-Medication</th>\n",
       "      <th>ImageURL</th>\n",
       "    </tr>\n",
       "  </thead>\n",
       "  <tbody>\n",
       "    <tr>\n",
       "      <th>0</th>\n",
       "      <td>अकन्थोसिस निगरिकन्स</td>\n",
       "      <td>https://www.mayoclinic.org/diseases-conditions...</td>\n",
       "      <td>NaN</td>\n",
       "      <td>आचन्थोसिस् निग्रिचन्स् एक त्वचा की स्थिति है ज...</td>\n",
       "      <td>आचन्थोसिस् निग्रिचन्स् अक्सर उन लोगों में होता...</td>\n",
       "      <td>NaN</td>\n",
       "      <td>शायद ही कभी, किसी प्रयोगशाला में जांच के लिए त...</td>\n",
       "      <td>उदाहरणों में शामिल हो सकते हैं यदि कोई त्वचा क...</td>\n",
       "      <td>NaN</td>\n",
       "      <td>NaN</td>\n",
       "      <td>त्वचा विज्ञान</td>\n",
       "      <td>NaN</td>\n",
       "      <td>NaN</td>\n",
       "      <td>NaN</td>\n",
       "      <td>NaN</td>\n",
       "      <td>NaN</td>\n",
       "      <td>NaN</td>\n",
       "      <td>NaN</td>\n",
       "      <td>NaN</td>\n",
       "      <td>NaN</td>\n",
       "      <td>NaN</td>\n",
       "      <td>NaN</td>\n",
       "      <td>https://upload.wikimedia.org/wikipedia/commons...</td>\n",
       "    </tr>\n",
       "    <tr>\n",
       "      <th>1</th>\n",
       "      <td>अचलसिया</td>\n",
       "      <td>https://www.mayoclinic.org/diseases-conditions...</td>\n",
       "      <td>NaN</td>\n",
       "      <td>अचलासिया एक दुर्लभ विकार है जो मुंह और पेट (ग्...</td>\n",
       "      <td>इसके कारणों के बारे में सिद्धांत हैं, लेकिन वा...</td>\n",
       "      <td>NaN</td>\n",
       "      <td>यह परीक्षण अन्नप्रणाली में लयबद्ध मांसपेशियों ...</td>\n",
       "      <td>NaN</td>\n",
       "      <td>NaN</td>\n",
       "      <td>NaN</td>\n",
       "      <td>थोरैसिक सर्जरी, सामान्य सर्जरी, लेप्रोस्कोपिक ...</td>\n",
       "      <td>एनोरेक्सिया (लेकिन तैयार और खाने की कोशिश करना...</td>\n",
       "      <td>आम तौर पर मध्य से देर से जीवन में, शायद ही कभी...</td>\n",
       "      <td>जिंदगी भर</td>\n",
       "      <td>अनजान</td>\n",
       "      <td>अनिर्णायक, लेकिन संभवतः: ऑटोइम्यून विकारों का ...</td>\n",
       "      <td>एसोफैगल मैनोमेट्री, बायोप्सी, एक्स-रे, बैरियम ...</td>\n",
       "      <td>रोकथाम का कोई उपाय नहीं</td>\n",
       "      <td>हेलर मायोटॉमी और फंडोप्लोमी, पीओईएम, वायवीय फै...</td>\n",
       "      <td>~ 20 वर्षों के बाद जीवित रहने की 76% संभावना (...</td>\n",
       "      <td>~100,000 लोगों में 1</td>\n",
       "      <td>NaN</td>\n",
       "      <td>https://upload.wikimedia.org/wikipedia/commons...</td>\n",
       "    </tr>\n",
       "    <tr>\n",
       "      <th>2</th>\n",
       "      <td>अकिलीज़ टेंडन टूटना</td>\n",
       "      <td>https://www.mayoclinic.org/diseases-conditions...</td>\n",
       "      <td>NaN</td>\n",
       "      <td>आचिल्लेस् तेन्दोन् एक मजबूत रेशेदार कॉर्ड है ज...</td>\n",
       "      <td>NaN</td>\n",
       "      <td>अकिलीज़ टेंडन टूटने के जोखिम को बढ़ाने वाले का...</td>\n",
       "      <td>NaN</td>\n",
       "      <td>NaN</td>\n",
       "      <td>NaN</td>\n",
       "      <td>NaN</td>\n",
       "      <td>हड्डी रोग, आपातकालीन चिकित्सा</td>\n",
       "      <td>एड़ी में दर्द</td>\n",
       "      <td>अचानक</td>\n",
       "      <td>NaN</td>\n",
       "      <td>पैर का जबरन तल का लचीलापन, सीधा आघात, लंबे समय...</td>\n",
       "      <td>फ्लोरोक्विनोलोन, व्यायाम में महत्वपूर्ण परिवर्...</td>\n",
       "      <td>लक्षणों और जांच के आधार पर, मेडिकल इमेजिंग द्व...</td>\n",
       "      <td>NaN</td>\n",
       "      <td>कास्टिंग या सर्जरी</td>\n",
       "      <td>NaN</td>\n",
       "      <td>1 प्रति 10,000 लोग प्रति वर्ष</td>\n",
       "      <td>NaN</td>\n",
       "      <td>https://upload.wikimedia.org/wikipedia/commons...</td>\n",
       "    </tr>\n",
       "    <tr>\n",
       "      <th>3</th>\n",
       "      <td>एक्यूट कोरोनरी सिंड्रोम</td>\n",
       "      <td>https://www.mayoclinic.org/diseases-conditions...</td>\n",
       "      <td>हालांकि, उम्र, लिंग और अन्य चिकित्सीय स्थितियो...</td>\n",
       "      <td>तीव्र कोरोनरी सिंड्रोम एक शब्द है जिसका उपयोग ...</td>\n",
       "      <td>कोशिकाओं की मृत्यु जिसके परिणामस्वरूप मांसपेशि...</td>\n",
       "      <td>NaN</td>\n",
       "      <td>यदि किसी के पास तीव्र कोरोनरी सिंड्रोम से जुड़...</td>\n",
       "      <td>NaN</td>\n",
       "      <td>यदि कोई नियमित रूप से व्यायाम नहीं कर रहा है, ...</td>\n",
       "      <td>निदान के आधार पर, आपातकालीन या चल रही देखभाल (...</td>\n",
       "      <td>कार्डियलजी</td>\n",
       "      <td>NaN</td>\n",
       "      <td>NaN</td>\n",
       "      <td>NaN</td>\n",
       "      <td>NaN</td>\n",
       "      <td>NaN</td>\n",
       "      <td>NaN</td>\n",
       "      <td>NaN</td>\n",
       "      <td>NaN</td>\n",
       "      <td>NaN</td>\n",
       "      <td>NaN</td>\n",
       "      <td>NaN</td>\n",
       "      <td>https://upload.wikimedia.org/wikipedia/commons...</td>\n",
       "    </tr>\n",
       "    <tr>\n",
       "      <th>4</th>\n",
       "      <td>ग्रंथिपेश्यर्बुदता</td>\n",
       "      <td>https://www.mayoclinic.org/diseases-conditions...</td>\n",
       "      <td>NaN</td>\n",
       "      <td>एडेनोमायोसिस के साथ, वही ऊतक जो गर्भाशय (एंडोम...</td>\n",
       "      <td>कुछ विशेषज्ञों का मानना ​​है कि गर्भाशय की परत...</td>\n",
       "      <td>NaN</td>\n",
       "      <td>NaN</td>\n",
       "      <td>एडिनोमायोसिस के उपचार विकल्पों में शामिल हैं प...</td>\n",
       "      <td>NaN</td>\n",
       "      <td>NaN</td>\n",
       "      <td>प्रसूतिशास्र</td>\n",
       "      <td>NaN</td>\n",
       "      <td>NaN</td>\n",
       "      <td>NaN</td>\n",
       "      <td>NaN</td>\n",
       "      <td>NaN</td>\n",
       "      <td>NaN</td>\n",
       "      <td>NaN</td>\n",
       "      <td>NaN</td>\n",
       "      <td>NaN</td>\n",
       "      <td>20 से 35%</td>\n",
       "      <td>NaN</td>\n",
       "      <td>https://upload.wikimedia.org/wikipedia/commons...</td>\n",
       "    </tr>\n",
       "  </tbody>\n",
       "</table>\n",
       "</div>"
      ],
      "text/plain": [
       "                      Name                                               link  \\\n",
       "0      अकन्थोसिस निगरिकन्स  https://www.mayoclinic.org/diseases-conditions...   \n",
       "1                  अचलसिया  https://www.mayoclinic.org/diseases-conditions...   \n",
       "2      अकिलीज़ टेंडन टूटना  https://www.mayoclinic.org/diseases-conditions...   \n",
       "3  एक्यूट कोरोनरी सिंड्रोम  https://www.mayoclinic.org/diseases-conditions...   \n",
       "4       ग्रंथिपेश्यर्बुदता  https://www.mayoclinic.org/diseases-conditions...   \n",
       "\n",
       "                                            Symptoms  \\\n",
       "0                                                NaN   \n",
       "1                                                NaN   \n",
       "2                                                NaN   \n",
       "3  हालांकि, उम्र, लिंग और अन्य चिकित्सीय स्थितियो...   \n",
       "4                                                NaN   \n",
       "\n",
       "                                            Overview  \\\n",
       "0  आचन्थोसिस् निग्रिचन्स् एक त्वचा की स्थिति है ज...   \n",
       "1  अचलासिया एक दुर्लभ विकार है जो मुंह और पेट (ग्...   \n",
       "2  आचिल्लेस् तेन्दोन् एक मजबूत रेशेदार कॉर्ड है ज...   \n",
       "3  तीव्र कोरोनरी सिंड्रोम एक शब्द है जिसका उपयोग ...   \n",
       "4  एडेनोमायोसिस के साथ, वही ऊतक जो गर्भाशय (एंडोम...   \n",
       "\n",
       "                                              Causes  \\\n",
       "0  आचन्थोसिस् निग्रिचन्स् अक्सर उन लोगों में होता...   \n",
       "1  इसके कारणों के बारे में सिद्धांत हैं, लेकिन वा...   \n",
       "2                                                NaN   \n",
       "3  कोशिकाओं की मृत्यु जिसके परिणामस्वरूप मांसपेशि...   \n",
       "4  कुछ विशेषज्ञों का मानना ​​है कि गर्भाशय की परत...   \n",
       "\n",
       "                                        Risk factors  \\\n",
       "0                                                NaN   \n",
       "1                                                NaN   \n",
       "2  अकिलीज़ टेंडन टूटने के जोखिम को बढ़ाने वाले का...   \n",
       "3                                                NaN   \n",
       "4                                                NaN   \n",
       "\n",
       "                                           Diagnosis  \\\n",
       "0  शायद ही कभी, किसी प्रयोगशाला में जांच के लिए त...   \n",
       "1  यह परीक्षण अन्नप्रणाली में लयबद्ध मांसपेशियों ...   \n",
       "2                                                NaN   \n",
       "3  यदि किसी के पास तीव्र कोरोनरी सिंड्रोम से जुड़...   \n",
       "4                                                NaN   \n",
       "\n",
       "                                           Treatment  \\\n",
       "0  उदाहरणों में शामिल हो सकते हैं यदि कोई त्वचा क...   \n",
       "1                                                NaN   \n",
       "2                                                NaN   \n",
       "3                                                NaN   \n",
       "4  एडिनोमायोसिस के उपचार विकल्पों में शामिल हैं प...   \n",
       "\n",
       "                                            Remedies  \\\n",
       "0                                                NaN   \n",
       "1                                                NaN   \n",
       "2                                                NaN   \n",
       "3  यदि कोई नियमित रूप से व्यायाम नहीं कर रहा है, ...   \n",
       "4                                                NaN   \n",
       "\n",
       "                                          Medication  \\\n",
       "0                                                NaN   \n",
       "1                                                NaN   \n",
       "2                                                NaN   \n",
       "3  निदान के आधार पर, आपातकालीन या चल रही देखभाल (...   \n",
       "4                                                NaN   \n",
       "\n",
       "                                      info-Specialty  \\\n",
       "0                                      त्वचा विज्ञान   \n",
       "1  थोरैसिक सर्जरी, सामान्य सर्जरी, लेप्रोस्कोपिक ...   \n",
       "2                      हड्डी रोग, आपातकालीन चिकित्सा   \n",
       "3                                         कार्डियलजी   \n",
       "4                                       प्रसूतिशास्र   \n",
       "\n",
       "                                       info-Symptoms  \\\n",
       "0                                                NaN   \n",
       "1  एनोरेक्सिया (लेकिन तैयार और खाने की कोशिश करना...   \n",
       "2                                      एड़ी में दर्द   \n",
       "3                                                NaN   \n",
       "4                                                NaN   \n",
       "\n",
       "                                    info-Usual onset info-Duration  \\\n",
       "0                                                NaN           NaN   \n",
       "1  आम तौर पर मध्य से देर से जीवन में, शायद ही कभी...     जिंदगी भर   \n",
       "2                                              अचानक           NaN   \n",
       "3                                                NaN           NaN   \n",
       "4                                                NaN           NaN   \n",
       "\n",
       "                                         info-Causes  \\\n",
       "0                                                NaN   \n",
       "1                                              अनजान   \n",
       "2  पैर का जबरन तल का लचीलापन, सीधा आघात, लंबे समय...   \n",
       "3                                                NaN   \n",
       "4                                                NaN   \n",
       "\n",
       "                                   info-Risk factors  \\\n",
       "0                                                NaN   \n",
       "1  अनिर्णायक, लेकिन संभवतः: ऑटोइम्यून विकारों का ...   \n",
       "2  फ्लोरोक्विनोलोन, व्यायाम में महत्वपूर्ण परिवर्...   \n",
       "3                                                NaN   \n",
       "4                                                NaN   \n",
       "\n",
       "                              info-Diagnostic method          info-Prevention  \\\n",
       "0                                                NaN                      NaN   \n",
       "1  एसोफैगल मैनोमेट्री, बायोप्सी, एक्स-रे, बैरियम ...  रोकथाम का कोई उपाय नहीं   \n",
       "2  लक्षणों और जांच के आधार पर, मेडिकल इमेजिंग द्व...                      NaN   \n",
       "3                                                NaN                      NaN   \n",
       "4                                                NaN                      NaN   \n",
       "\n",
       "                                      info-Treatment  \\\n",
       "0                                                NaN   \n",
       "1  हेलर मायोटॉमी और फंडोप्लोमी, पीओईएम, वायवीय फै...   \n",
       "2                                 कास्टिंग या सर्जरी   \n",
       "3                                                NaN   \n",
       "4                                                NaN   \n",
       "\n",
       "                                      info-Prognosis  \\\n",
       "0                                                NaN   \n",
       "1  ~ 20 वर्षों के बाद जीवित रहने की 76% संभावना (...   \n",
       "2                                                NaN   \n",
       "3                                                NaN   \n",
       "4                                                NaN   \n",
       "\n",
       "                  info-Frequency info-Medication  \\\n",
       "0                            NaN             NaN   \n",
       "1           ~100,000 लोगों में 1             NaN   \n",
       "2  1 प्रति 10,000 लोग प्रति वर्ष             NaN   \n",
       "3                            NaN             NaN   \n",
       "4                      20 से 35%             NaN   \n",
       "\n",
       "                                            ImageURL  \n",
       "0  https://upload.wikimedia.org/wikipedia/commons...  \n",
       "1  https://upload.wikimedia.org/wikipedia/commons...  \n",
       "2  https://upload.wikimedia.org/wikipedia/commons...  \n",
       "3  https://upload.wikimedia.org/wikipedia/commons...  \n",
       "4  https://upload.wikimedia.org/wikipedia/commons...  "
      ]
     },
     "execution_count": 116,
     "metadata": {},
     "output_type": "execute_result"
    }
   ],
   "source": [
    "de.head()"
   ]
  },
  {
   "cell_type": "code",
   "execution_count": 112,
   "metadata": {},
   "outputs": [],
   "source": [
    "del de[\"info-medication\"]\n",
    "del de[\"info-symptoms\"]\n",
    "del de[\"info-causes\"]"
   ]
  },
  {
   "cell_type": "code",
   "execution_count": 109,
   "metadata": {},
   "outputs": [],
   "source": [
    "di.columns = [\"Name\", \"info-Specialty\", \"info-Symptoms\", \"info-Usual onset\", \"info-Duration\", \"info-Causes\", \"info-Risk factors\", \"info-Diagnostic method\", \"info-Prevention\", \"info-Treatment\", \"info-Prognosis\", \"info-Frequency\", \"info-Medication\", \"ImageURL\"]"
   ]
  },
  {
   "cell_type": "code",
   "execution_count": 89,
   "metadata": {},
   "outputs": [],
   "source": [
    "attrs = [\"info-Specialty\", \"info-Symptoms\", \"info-Usual onset\", \"info-Duration\", \"info-Causes\", \"info-Risk factors\", \"info-Diagnostic method\", \"info-Prevention\", \"info-Treatment\", \"info-Prognosis\", \"info-Frequency\", \"info-Medication\", \"ImageURL\"]"
   ]
  },
  {
   "cell_type": "code",
   "execution_count": 114,
   "metadata": {},
   "outputs": [],
   "source": [
    "for attribute in attrs:\n",
    "  de[attribute] = di[attribute]"
   ]
  },
  {
   "cell_type": "code",
   "execution_count": 183,
   "metadata": {},
   "outputs": [],
   "source": [
    "di.to_csv(checkfile, index=False)"
   ]
  },
  {
   "cell_type": "code",
   "execution_count": 117,
   "metadata": {},
   "outputs": [],
   "source": [
    "import pickle\n",
    "open_file = open('./infocontent.pkl', \"rb\")\n",
    "loaded_list = pickle.load(open_file)\n",
    "open_file.close()"
   ]
  },
  {
   "cell_type": "code",
   "execution_count": 181,
   "metadata": {},
   "outputs": [],
   "source": [
    "#for row in loaded_list:\n",
    "di.drop(368, axis=0, inplace=True)\n",
    "#de.index = range(len(de))"
   ]
  },
  {
   "cell_type": "code",
   "execution_count": 120,
   "metadata": {},
   "outputs": [
    {
     "data": {
      "text/plain": [
       "(1158, 23)"
      ]
     },
     "execution_count": 120,
     "metadata": {},
     "output_type": "execute_result"
    }
   ],
   "source": [
    "de.shape"
   ]
  },
  {
   "cell_type": "code",
   "execution_count": 127,
   "metadata": {},
   "outputs": [
    {
     "name": "stdout",
     "output_type": "stream",
     "text": [
      "1151\n"
     ]
    }
   ],
   "source": [
    "for idx in range(0, 1158):\n",
    "  if pd.isna(di.loc[idx, \"Name\"]):\n",
    "    print(idx)"
   ]
  },
  {
   "cell_type": "code",
   "execution_count": 137,
   "metadata": {},
   "outputs": [
    {
     "data": {
      "text/plain": [
       "23"
      ]
     },
     "execution_count": 137,
     "metadata": {},
     "output_type": "execute_result"
    }
   ],
   "source": [
    "cols = []\n",
    "for col in di.columns:\n",
    "  cols.append(col)\n",
    "len(cols)"
   ]
  },
  {
   "cell_type": "code",
   "execution_count": 149,
   "metadata": {},
   "outputs": [],
   "source": [
    "cols.remove(\"link\")\n",
    "cols.remove(\"ImageURL\")"
   ]
  },
  {
   "cell_type": "code",
   "execution_count": 208,
   "metadata": {},
   "outputs": [],
   "source": [
    "file2 = open('./trymergeHindi.csv', 'rb')\n",
    "# file2 = open('./infoboxImgHindi2.csv', 'rb')\n",
    "di = pd.read_csv(file2)#, encoding='Windows-1252')\n",
    "import re\n",
    "from nltk.tokenize import word_tokenize\n",
    "dhe = {}\n",
    "for attr in cols:\n",
    "  dhe[attr] = 0\n",
    "idxd = {}\n",
    "for idx in range(0, 1157):\n",
    "  #print(idx)\n",
    "  possible = []\n",
    "  for attribute in cols:\n",
    "    english = 0\n",
    "    value = di.loc[idx, attribute]\n",
    "\n",
    "    if pd.isna(value):\n",
    "      continue\n",
    "      \n",
    "    if value == \"\":\n",
    "      continue\n",
    "\n",
    "    # print(idx, attribute)\n",
    "      \n",
    "    #translated_value = GoogleTranslator(source=\"en\", target=\"hi\").translate(value)\n",
    "    #print(de.loc[526, \"Medication\"])\n",
    "\n",
    "    reg = re.compile(r'[a-zA-Z]')\n",
    "    words = word_tokenize(value)\n",
    "    for word in words:\n",
    "      if reg.match(word) and (english==0):\n",
    "        #print(word)\n",
    "        dhe[attribute]+=1\n",
    "        possible.append(attribute)\n",
    "        possible.append(word)\n",
    "        #english = 1\n",
    "        #break\n",
    "  if possible:\n",
    "    idxd[idx] = possible\n",
    "    \n",
    "    #print(translated_value)\n",
    "\n",
    "    # dh.loc[idx, attribute] = translated_value"
   ]
  },
  {
   "cell_type": "code",
   "execution_count": 209,
   "metadata": {},
   "outputs": [
    {
     "data": {
      "text/plain": [
       "{126: ['Risk factors', 'O'],\n",
       " 209: ['Remedies', 'F', 'Remedies', 'C', 'Remedies', 'C'],\n",
       " 260: ['Overview', 'F', 'Overview', 'C'],\n",
       " 277: ['Causes', 'F', 'Causes', 'F'],\n",
       " 332: ['Risk factors', 'F', 'Risk factors', 'C'],\n",
       " 333: ['Overview', 'F', 'Overview', 'C'],\n",
       " 337: ['Causes', 'X'],\n",
       " 365: ['Treatment', 'PCSK9'],\n",
       " 427: ['info-Causes', 'X'],\n",
       " 428: ['Causes', 'PIK3CA'],\n",
       " 432: ['Risk factors', 'GALC'],\n",
       " 450: ['Remedies', 'F', 'Remedies', 'C', 'Remedies', 'F', 'Remedies', 'C'],\n",
       " 481: ['Medication', 'MAOI', 'Medication', 'MAOI', 'Medication', 'MAOI'],\n",
       " 585: ['Causes', 'OCA1', 'Causes', 'OCA7'],\n",
       " 611: ['Risk factors', 'BRCA1', 'Risk factors', 'BRCA2'],\n",
       " 661: ['Overview', 'REM-उह्-रोइद्स्'],\n",
       " 740: ['Treatment', 'F', 'Treatment', 'C', 'Remedies', 'F', 'Remedies', 'C'],\n",
       " 741: ['info-Treatment', 'E1'],\n",
       " 772: ['Name',\n",
       "  'REM',\n",
       "  'Diagnosis',\n",
       "  'REM',\n",
       "  'Diagnosis',\n",
       "  'REM',\n",
       "  'Diagnosis',\n",
       "  'REM',\n",
       "  'Medication',\n",
       "  'REM',\n",
       "  'Medication',\n",
       "  'REM'],\n",
       " 778: ['Diagnosis', 'FAF'],\n",
       " 793: ['Treatment', 'F', 'Treatment', 'C'],\n",
       " 869: ['Treatment', 'CPAP', 'Treatment', 'BPAP'],\n",
       " 874: ['Symptoms', 'REM', 'Causes', 'NREM', 'Causes', 'NREM', 'Causes', 'REM'],\n",
       " 883: ['Symptoms', 'OSA', 'Remedies', 'OSA'],\n",
       " 918: ['Medication', 'PILD'],\n",
       " 1055: ['Causes', 'X'],\n",
       " 1119: ['Causes', 'VIII'],\n",
       " 1148: ['Name', 'XXX'],\n",
       " 1155: ['info-Causes', 'VZV']}"
      ]
     },
     "execution_count": 209,
     "metadata": {},
     "output_type": "execute_result"
    }
   ],
   "source": [
    "idxd"
   ]
  },
  {
   "cell_type": "code",
   "execution_count": 210,
   "metadata": {},
   "outputs": [
    {
     "data": {
      "text/plain": [
       "Index(['Name', 'link', 'Symptoms', 'Overview', 'Causes', 'Risk factors',\n",
       "       'Diagnosis', 'Treatment', 'Remedies', 'Medication', 'info-Specialty',\n",
       "       'info-Symptoms', 'info-Usual onset', 'info-Duration', 'info-Causes',\n",
       "       'info-Risk factors', 'info-Diagnostic method', 'info-Prevention',\n",
       "       'info-Treatment', 'info-Prognosis', 'info-Frequency', 'info-Medication',\n",
       "       'ImageURL'],\n",
       "      dtype='object')"
      ]
     },
     "execution_count": 210,
     "metadata": {},
     "output_type": "execute_result"
    }
   ],
   "source": [
    "di.columns"
   ]
  }
 ],
 "metadata": {
  "interpreter": {
   "hash": "31f2aee4e71d21fbe5cf8b01ff0e069b9275f58929596ceb00d14d90e3e16cd6"
  },
  "kernelspec": {
   "display_name": "Python 3.8.10 64-bit",
   "language": "python",
   "name": "python3"
  },
  "language_info": {
   "codemirror_mode": {
    "name": "ipython",
    "version": 3
   },
   "file_extension": ".py",
   "mimetype": "text/x-python",
   "name": "python",
   "nbconvert_exporter": "python",
   "pygments_lexer": "ipython3",
   "version": "3.8.10"
  },
  "orig_nbformat": 4
 },
 "nbformat": 4,
 "nbformat_minor": 2
}
